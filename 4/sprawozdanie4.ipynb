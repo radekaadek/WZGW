{
 "cells": [
  {
   "cell_type": "markdown",
   "metadata": {},
   "source": [
    "## Odwzorowanie Gaussa-Krügera: układy współrzędnych płaskich stosowanych w Polsce\n",
    "\n",
    "Autor: **Radosław Dąbkowski**\n",
    "\n",
    "Numer indeksu: **325683**\n",
    "\n",
    "Grupa: **1**\n",
    "Numer: **2**\n",
    "\n",
    "### Wstęp\n",
    "\n",
    "Celem tego zadania było zapoznanie się z układami współrzędnych płaskich stosowanych w Polsce oraz porównanie ich do innych układów."
   ]
  },
  {
   "cell_type": "markdown",
   "metadata": {},
   "source": [
    "Zadanie 1. Przeliczenie współrzędnych z ćwiczenia 3. do układów PL-1992\n",
    "i PL-2000"
   ]
  },
  {
   "cell_type": "code",
   "execution_count": 18,
   "metadata": {},
   "outputs": [
    {
     "name": "stdout",
     "output_type": "stream",
     "text": [
      "Numer punktu\tx1992\t\t\ty1992\t\t\tx2000\t\ty2000\n",
      "1\t\t292665.811\t\t464550.197\t\t5596152.482\t6535471.904\n",
      "2\t\t332637.513\t\t464820.055\t\t5636149.104\t6535201.877\n",
      "3\t\t331961.138\t\t564749.057\t\t5636826.018\t6635201.820\n",
      "4\t\t291990.146\t\t565245.606\t\t5596833.498\t6636238.901\n"
     ]
    }
   ],
   "source": [
    "import numpy as np\n",
    "from pyproj import Transformer, CRS, Geod\n",
    "\n",
    "nr = 2\n",
    "m0 = 0.999923\n",
    "phi1 = 50 + nr*15/60\n",
    "lam1 = 18 + nr*15/60\n",
    "\n",
    "geod = Geod(ellps='GRS80')\n",
    "\n",
    "d12 = 40e3\n",
    "a12 = 0\n",
    "d23 = 100e3\n",
    "a23 = 90\n",
    "d34 = 40e3\n",
    "a34 = 180\n",
    "\n",
    "p1 = (lam1,phi1,0)\n",
    "p2 = geod.fwd(lam1,phi1,a12,d12)\n",
    "p3 = geod.fwd(p2[0],p2[1],a23,d23)\n",
    "p4 = geod.fwd(p3[0],p3[1],a34,d34)\n",
    "\n",
    "\n",
    "# Transformacja współrzędnych geodezyjnych na płaszczyźnie Gaussa-Krügera\n",
    "\n",
    "input_proj = CRS.from_epsg(4326)\n",
    "output_proj = CRS.from_epsg(2177)\n",
    "philam_2000_transformer = Transformer.from_proj(input_proj, output_proj)\n",
    "\n",
    "\n",
    "pl2000_1 = philam_2000_transformer.transform(p1[1], p1[0])\n",
    "pl2000_2 = philam_2000_transformer.transform(p2[1], p2[0])\n",
    "pl2000_3 = philam_2000_transformer.transform(p3[1], p3[0])\n",
    "pl2000_4 = philam_2000_transformer.transform(p4[1], p4[0])\n",
    "\n",
    "pl2000_points = [pl2000_1, pl2000_2, pl2000_3, pl2000_4]\n",
    "\n",
    "output_proj = CRS.from_epsg(2180)\n",
    "\n",
    "m0_1992 = 0.9993\n",
    "\n",
    "philam_1992_transformer = Transformer.from_proj(input_proj, output_proj)\n",
    "pl1992_1 = philam_1992_transformer.transform(p1[1], p1[0])\n",
    "pl1992_2 = philam_1992_transformer.transform(p2[1], p2[0])\n",
    "pl1992_3 = philam_1992_transformer.transform(p3[1], p3[0])\n",
    "pl1992_4 = philam_1992_transformer.transform(p4[1], p4[0])\n",
    "\n",
    "pl1992_points = [pl1992_1, pl1992_2, pl1992_3, pl1992_4]\n",
    "\n",
    "print('Numer punktu\\tx1992\\t\\t\\ty1992\\t\\t\\tx2000\\t\\ty2000')\n",
    "for i in range(len(pl1992_points)):\n",
    "    print(f'{i+1}\\t\\t{pl1992_points[i][0]:.3f}\\t\\t{pl1992_points[i][1]:.3f}\\t\\t{pl2000_points[i][0]:.3f}\\t{pl2000_points[i][1]:.3f}')\n"
   ]
  },
  {
   "cell_type": "markdown",
   "metadata": {},
   "source": [
    "Zadanie 2. Redukcje odwzorowawcze"
   ]
  },
  {
   "cell_type": "code",
   "execution_count": 19,
   "metadata": {},
   "outputs": [
    {
     "name": "stdout",
     "output_type": "stream",
     "text": [
      "Numer odcinka\t\tDługość odcinka z zadania 3 [m]\tDługość odcinka w układzie PL-2000 [m]\t\tRóżnica [m]\n",
      "1-2\t\t\t39997.533\t\t\t\t33057.676\t\t\t\t6942.324\n",
      "2-3\t\t\t100002.234\t\t\t\t82386.951\t\t\t\t17613.049\n",
      "3-4\t\t\t40005.965\t\t\t\t32849.658\t\t\t\t7150.342\n",
      "4-1\t\t\t100769.298\t\t\t\t83013.919\t\t\t\t17752.973\n",
      "Numer odcinka\t\tDługość odcinka w układzie 2000 [m]\tDługość odcinka w układzie 1992 [m]\tRóżnica [m]\n",
      "1-2\t\t\t40000.613\t\t\t\t40000.613\t\t\t\t0.000\n",
      "2-3\t\t\t100009.935\t\t\t\t100001.291\t\t\t\t8.643\n",
      "3-4\t\t\t40009.046\t\t\t\t40002.077\t\t\t\t6.969\n",
      "4-1\t\t\t100777.058\t\t\t\t100768.214\t\t\t\t8.844\n"
     ]
    }
   ],
   "source": [
    "# 1. Oblicz długości odcinków między punktami, w odpowiednich parach: 1-2, 2-3, 3-4, 4-1, na\n",
    "# płaszczyźnie układu PL-2000 (z tw. Pitagorasa, sukład);\n",
    "\n",
    "d12 = np.sqrt((pl2000_2[0] - pl2000_1[0])**2 + (pl2000_2[1] - pl2000_1[1])**2)\n",
    "d23 = np.sqrt((pl2000_3[0] - pl2000_2[0])**2 + (pl2000_3[1] - pl2000_2[1])**2)\n",
    "d34 = np.sqrt((pl2000_4[0] - pl2000_3[0])**2 + (pl2000_4[1] - pl2000_3[1])**2)\n",
    "d41 = np.sqrt((pl2000_1[0] - pl2000_4[0])**2 + (pl2000_1[1] - pl2000_4[1])**2)\n",
    "\n",
    "d12_1992 = np.sqrt((pl1992_2[0] - pl1992_1[0])**2 + (pl1992_2[1] - pl1992_1[1])**2)\n",
    "d23_1992 = np.sqrt((pl1992_3[0] - pl1992_2[0])**2 + (pl1992_3[1] - pl1992_2[1])**2)\n",
    "d34_1992 = np.sqrt((pl1992_4[0] - pl1992_3[0])**2 + (pl1992_4[1] - pl1992_3[1])**2)\n",
    "d41_1992 = np.sqrt((pl1992_1[0] - pl1992_4[0])**2 + (pl1992_1[1] - pl1992_4[1])**2)\n",
    "\n",
    "# 2. Wykonaj redukcje długości z płaszczyzny układu PL-2000 na elipsoidę:\n",
    "# 1. Oblicz długość odcinka na płaszczyźnie G-K (sgk):\n",
    "# • sgk = sukład/mukład\n",
    "# 0 ,\n",
    "# • albo z tw. Pitagorasa na podstawie współrzędnych płaskich punktów na płaszczyźnie\n",
    "# G-K.\n",
    "\n",
    "sgk12 = d12/m0\n",
    "sgk23 = d23/m0\n",
    "sgk34 = d34/m0\n",
    "sgk41 = d41/m0\n",
    "\n",
    "sgk12_1992 = d12_1992/m0_1992\n",
    "sgk23_1992 = d23_1992/m0_1992\n",
    "sgk34_1992 = d34_1992/m0_1992\n",
    "sgk41_1992 = d41_1992/m0_1992\n",
    "\n",
    "# 2. Oblicz redukcję długości:\n",
    "# rAB = sAB · y2\n",
    "# A + yAyB + y2\n",
    "# B\n",
    "# 6R2\n",
    "# m\n",
    "# (5)\n",
    "# gdzie: Rm – średni promień krzywizny dla odcinka (Rm = √Nm · Mm obliczone dla φm\n",
    "# – szerokość geodezyjna środkowego punktu odcinka); y – współrzędne y obu punktów na\n",
    "# płaszczyźnie G-K; sAB – długość odcinka (dowolnie, czy na płaszczyźnie, czy na elipso-\n",
    "# idzie)\n",
    "\n",
    "\n",
    "# Współrzędne geodezyjne środkowego punktu odcinka\n",
    "phi_m12 = (p1[1] + p2[1])/2\n",
    "phi_m23 = (p2[1] + p3[1])/2\n",
    "phi_m34 = (p3[1] + p4[1])/2\n",
    "phi_m41 = (p4[1] + p1[1])/2\n",
    "\n",
    "# Główne promienie krzywizny\n",
    "\n",
    "# Promień przekroju południkowego (podłużnego)\n",
    "# M = a ( 1 − e 2 ) ( 1 − e 2 sin 2 ⁡ B ) 3 {\\displaystyle M={\\frac {a(1-e^{2})}{\\sqrt {(1-e^{2}\\sin ^{2}B)^{3}}}}}\n",
    "# Promień przekroju pierwszego wertykału (poprzecznego)\n",
    "# N = a 1 − e 2 sin 2 ⁡ B {\\displaystyle N={\\frac {a}{\\sqrt {1-e^{2}\\sin ^{2}B}}}}\n",
    "# https://pl.wikipedia.org/wiki/Elipsoida_ziemska#Główne_promienie_krzywizny\n",
    "\n",
    "def calculate_n_m(phi, a=6378137, e=0.0818191910428158) -> tuple:\n",
    "    B = np.radians(phi)\n",
    "    M = a * (1 - e ** 2) / np.sqrt((1 - e ** 2 * np.sin(B) ** 2) ** 3)\n",
    "    N = a / np.sqrt(1 - e ** 2 * np.sin(B) ** 2)\n",
    "    n = M / N\n",
    "    m = N / np.sqrt(1 - e ** 2 * np.sin(B) ** 2)\n",
    "    return n, m\n",
    "\n",
    "nm12, mm12 = calculate_n_m(phi_m12)\n",
    "nm23, mm23 = calculate_n_m(phi_m23)\n",
    "nm34, mm34 = calculate_n_m(phi_m34)\n",
    "nm41, mm41 = calculate_n_m(phi_m41)\n",
    "\n",
    "# Redukcja długości odcinków\n",
    "\n",
    "r12 = d12 * pl2000_1[1] * pl2000_2[1] / (6 * mm12**2)\n",
    "r23 = d23 * pl2000_2[1] * pl2000_3[1] / (6 * mm23**2)\n",
    "r34 = d34 * pl2000_3[1] * pl2000_4[1] / (6 * mm34**2)\n",
    "r41 = d41 * pl2000_4[1] * pl2000_1[1] / (6 * mm41**2)\n",
    "\n",
    "r12_1992 = d12_1992 * pl1992_1[1] * pl1992_2[1] / (6 * mm12**2)\n",
    "r23_1992 = d23_1992 * pl1992_2[1] * pl1992_3[1] / (6 * mm23**2)\n",
    "r34_1992 = d34_1992 * pl1992_3[1] * pl1992_4[1] / (6 * mm34**2)\n",
    "r41_1992 = d41_1992 * pl1992_4[1] * pl1992_1[1] / (6 * mm41**2)\n",
    "\n",
    "# 3. Oblicz długość odcinka na elipsoidzie:\n",
    "# • sAB = sgk − rAB\n",
    "\n",
    "s12 = sgk12 - r12\n",
    "s23 = sgk23 - r23\n",
    "s34 = sgk34 - r34\n",
    "s41 = sgk41 - r41\n",
    "\n",
    "s12_1992 = sgk12_1992 - r12_1992\n",
    "s23_1992 = sgk23_1992 - r23_1992\n",
    "s34_1992 = sgk34_1992 - r34_1992\n",
    "s41_1992 = sgk41_1992 - r41_1992\n",
    "\n",
    "from pyproj import Geod\n",
    "geod = Geod(ellps='GRS80')\n",
    "\n",
    "s12_inv = geod.inv(p1[0], p1[1], p2[0], p2[1])[2]\n",
    "s23_inv = geod.inv(p2[0], p2[1], p3[0], p3[1])[2]\n",
    "s34_inv = geod.inv(p3[0], p3[1], p4[0], p4[1])[2]\n",
    "s41_inv = geod.inv(p4[0], p4[1], p1[0], p1[1])[2]\n",
    "\n",
    "# print out results\n",
    "print('Numer odcinka\\t\\tDługość odcinka z zadania 3 [m]\\tDługość odcinka w układzie PL-2000 [m]\\t\\tRóżnica [m]')\n",
    "print(f'1-2\\t\\t\\t{d12:.3f}\\t\\t\\t\\t{s12:.3f}\\t\\t\\t\\t{s12_inv - s12:.3f}')\n",
    "print(f'2-3\\t\\t\\t{d23:.3f}\\t\\t\\t\\t{s23:.3f}\\t\\t\\t\\t{s23_inv - s23:.3f}')\n",
    "print(f'3-4\\t\\t\\t{d34:.3f}\\t\\t\\t\\t{s34:.3f}\\t\\t\\t\\t{s34_inv - s34:.3f}')\n",
    "print(f'4-1\\t\\t\\t{d41:.3f}\\t\\t\\t\\t{s41:.3f}\\t\\t\\t\\t{s41_inv - s41:.3f}')\n",
    "print('Numer odcinka\\t\\tDługość odcinka w układzie 2000 [m]\\tDługość odcinka w układzie 1992 [m]\\tRóżnica [m]')\n",
    "print(f'1-2\\t\\t\\t{sgk12:.3f}\\t\\t\\t\\t{sgk12_1992:.3f}\\t\\t\\t\\t{abs(sgk12_1992 - sgk12):.3f}')\n",
    "print(f'2-3\\t\\t\\t{sgk23:.3f}\\t\\t\\t\\t{sgk23_1992:.3f}\\t\\t\\t\\t{abs(sgk23_1992 - sgk23):.3f}')\n",
    "print(f'3-4\\t\\t\\t{sgk34:.3f}\\t\\t\\t\\t{sgk34_1992:.3f}\\t\\t\\t\\t{abs(sgk34_1992 - sgk34):.3f}')\n",
    "print(f'4-1\\t\\t\\t{sgk41:.3f}\\t\\t\\t\\t{sgk41_1992:.3f}\\t\\t\\t\\t{abs(sgk41_1992 - sgk41):.3f}')"
   ]
  },
  {
   "cell_type": "markdown",
   "metadata": {},
   "source": [
    "Zredukowane długości znacząco różnią się od długości policzonych za pomocą zadania odwrotnego. Różnice te wzrastają wraz z długościami odcinków."
   ]
  },
  {
   "cell_type": "markdown",
   "metadata": {},
   "source": [
    "Zadanie 3. Obliczenie pola powierzchni \"trapezu\" na płaszczyźnie"
   ]
  },
  {
   "cell_type": "code",
   "execution_count": 20,
   "metadata": {},
   "outputs": [
    {
     "name": "stdout",
     "output_type": "stream",
     "text": [
      "Pole trapezu w układzie PL-1992: 4009537314.64 m2\n",
      "Pole trapezu w układzie PL-2000: 4015237562.35 m2\n",
      "Pole trapezu w układzie PL-LAEA: 4014988079.56 m2\n"
     ]
    }
   ],
   "source": [
    "def polygon_area(points: list) -> float:\n",
    "    p = 0\n",
    "    for i in range(1, len(points) - 1):\n",
    "        p += points[i][0] * (points[i+1][1] - points[i-1][1])\n",
    "    # last element\n",
    "    p += points[-1][0] * (points[0][1] - points[-2][1])\n",
    "    # first element\n",
    "    p += points[0][0] * (points[1][1] - points[-1][1])\n",
    "    return abs(p/2)\n",
    "\n",
    "\n",
    "pole_trapezu_1992 = polygon_area(pl1992_points)\n",
    "pole_trapezu_2000 = polygon_area(pl2000_points)\n",
    "\n",
    "pl_laea = CRS.from_epsg(3035)\n",
    "philam_laea_transformer = Transformer.from_proj(input_proj, pl_laea)\n",
    "\n",
    "pl_laea_1 = philam_laea_transformer.transform(p1[1], p1[0])\n",
    "pl_laea_2 = philam_laea_transformer.transform(p2[1], p2[0])\n",
    "pl_laea_3 = philam_laea_transformer.transform(p3[1], p3[0])\n",
    "pl_laea_4 = philam_laea_transformer.transform(p4[1], p4[0])\n",
    "\n",
    "pl_laea_points = [pl_laea_1, pl_laea_2, pl_laea_3, pl_laea_4]\n",
    "\n",
    "pole_trapezu_laea = polygon_area(pl_laea_points)\n",
    "\n",
    "print(f'Pole trapezu w układzie PL-1992: {pole_trapezu_1992:.2f} m2')\n",
    "print(f'Pole trapezu w układzie PL-2000: {pole_trapezu_2000:.2f} m2')\n",
    "print(f'Pole trapezu w układzie PL-LAEA: {pole_trapezu_laea:.2f} m2')"
   ]
  },
  {
   "cell_type": "markdown",
   "metadata": {},
   "source": [
    "Pole trapezu w układzie PL-2000 jest bliższe polu w układzie PL-LAEA. Układ PL-LAEA jest układem równopolowym, a pole obliczone w tym układzie jest najbliższe rzeczywistemu."
   ]
  }
 ],
 "metadata": {
  "kernelspec": {
   "display_name": "ox",
   "language": "python",
   "name": "python3"
  },
  "language_info": {
   "codemirror_mode": {
    "name": "ipython",
    "version": 3
   },
   "file_extension": ".py",
   "mimetype": "text/x-python",
   "name": "python",
   "nbconvert_exporter": "python",
   "pygments_lexer": "ipython3",
   "version": "3.11.2"
  }
 },
 "nbformat": 4,
 "nbformat_minor": 2
}
